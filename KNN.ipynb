{
  "nbformat": 4,
  "nbformat_minor": 0,
  "metadata": {
    "colab": {
      "name": "KNN.ipynb",
      "provenance": [],
      "collapsed_sections": []
    },
    "kernelspec": {
      "name": "python3",
      "display_name": "Python 3"
    },
    "language_info": {
      "name": "python"
    }
  },
  "cells": [
    {
      "cell_type": "code",
      "execution_count": 15,
      "metadata": {
        "id": "StLnEp8fYNTN"
      },
      "outputs": [],
      "source": [
        "import numpy as np\n",
        "import pandas as pd\n",
        "from sklearn import neighbors, metrics, svm\n",
        "from sklearn.model_selection import train_test_split\n",
        "from sklearn.preprocessing import LabelEncoder"
      ]
    },
    {
      "cell_type": "code",
      "source": [
        "from matplotlib import pyplot as plt"
      ],
      "metadata": {
        "id": "C6mOW2Jth6Wf"
      },
      "execution_count": 16,
      "outputs": []
    },
    {
      "cell_type": "code",
      "source": [
        "data = pd.read_csv('car.data')\n",
        "print(data.head())"
      ],
      "metadata": {
        "colab": {
          "base_uri": "https://localhost:8080/"
        },
        "id": "3YDI069vh_no",
        "outputId": "f9ff8e15-b4eb-4644-9773-c06b707e0322"
      },
      "execution_count": 17,
      "outputs": [
        {
          "output_type": "stream",
          "name": "stdout",
          "text": [
            "  buying  maint doors persons lug_boot safety  class\n",
            "0  vhigh  vhigh     2       2    small    low  unacc\n",
            "1  vhigh  vhigh     2       2    small    med  unacc\n",
            "2  vhigh  vhigh     2       2    small   high  unacc\n",
            "3  vhigh  vhigh     2       2      med    low  unacc\n",
            "4  vhigh  vhigh     2       2      med    med  unacc\n"
          ]
        }
      ]
    },
    {
      "cell_type": "code",
      "source": [
        "X = data[['buying', 'maint', 'safety']].values\n",
        "y = data[['class']]\n",
        "print(X,y)"
      ],
      "metadata": {
        "colab": {
          "base_uri": "https://localhost:8080/"
        },
        "id": "Vi8f-KQOij12",
        "outputId": "d8e148da-ce5e-40eb-c334-52df4894f018"
      },
      "execution_count": 18,
      "outputs": [
        {
          "output_type": "stream",
          "name": "stdout",
          "text": [
            "[['vhigh' 'vhigh' 'low']\n",
            " ['vhigh' 'vhigh' 'med']\n",
            " ['vhigh' 'vhigh' 'high']\n",
            " ...\n",
            " ['low' 'low' 'low']\n",
            " ['low' 'low' 'med']\n",
            " ['low' 'low' 'high']]       class\n",
            "0     unacc\n",
            "1     unacc\n",
            "2     unacc\n",
            "3     unacc\n",
            "4     unacc\n",
            "...     ...\n",
            "1723   good\n",
            "1724  vgood\n",
            "1725  unacc\n",
            "1726   good\n",
            "1727  vgood\n",
            "\n",
            "[1728 rows x 1 columns]\n"
          ]
        }
      ]
    },
    {
      "cell_type": "code",
      "source": [
        "#converting data_X\n",
        "Le=LabelEncoder()\n",
        "for i in range(len(X[0])):\n",
        "  X[:,i]=Le.fit_transform(X[:,i])\n",
        "\n",
        "print(X)"
      ],
      "metadata": {
        "colab": {
          "base_uri": "https://localhost:8080/"
        },
        "id": "UJCbj8XQpI68",
        "outputId": "5d4dd2c0-97f5-40e0-ea63-93c52fc243f5"
      },
      "execution_count": 19,
      "outputs": [
        {
          "output_type": "stream",
          "name": "stdout",
          "text": [
            "[[3 3 1]\n",
            " [3 3 2]\n",
            " [3 3 0]\n",
            " ...\n",
            " [1 1 1]\n",
            " [1 1 2]\n",
            " [1 1 0]]\n"
          ]
        }
      ]
    },
    {
      "cell_type": "code",
      "source": [
        "#converting data_y\n",
        "label_maping={\n",
        "    'unacc':0,\n",
        "    'acc':1,\n",
        "    'good':2,\n",
        "    'vgood':3\n",
        "}\n",
        "y['class']=y['class'].map(label_maping)\n",
        "y=np.array(y)\n",
        "print(y)"
      ],
      "metadata": {
        "colab": {
          "base_uri": "https://localhost:8080/"
        },
        "id": "8B_QDdkqpgor",
        "outputId": "a6db511e-c939-4760-b804-663af13ba825"
      },
      "execution_count": 20,
      "outputs": [
        {
          "output_type": "stream",
          "name": "stdout",
          "text": [
            "[[0]\n",
            " [0]\n",
            " [0]\n",
            " ...\n",
            " [0]\n",
            " [2]\n",
            " [3]]\n"
          ]
        },
        {
          "output_type": "stream",
          "name": "stderr",
          "text": [
            "/usr/local/lib/python3.7/dist-packages/ipykernel_launcher.py:8: SettingWithCopyWarning: \n",
            "A value is trying to be set on a copy of a slice from a DataFrame.\n",
            "Try using .loc[row_indexer,col_indexer] = value instead\n",
            "\n",
            "See the caveats in the documentation: https://pandas.pydata.org/pandas-docs/stable/user_guide/indexing.html#returning-a-view-versus-a-copy\n",
            "  \n"
          ]
        }
      ]
    },
    {
      "cell_type": "code",
      "source": [
        "#Creating model\n",
        "knn=neighbors.KNeighborsClassifier(n_neighbors=25,weights='uniform')\n",
        "X_train, X_test, y_train, y_test=train_test_split(X,y,test_size=0.2)\n",
        "knn.fit(X_train,y_train)\n",
        "prediction=knn.predict(X_test)\n",
        "accuracy=metrics.accuracy_score(y_test,prediction)\n",
        "print('Predictions: ',prediction)\n",
        "print('Accuracy: ',accuracy)\n",
        "print('Actual value: ',y[20])\n",
        "print('Predicted value: ',knn.predict(X)[20])"
      ],
      "metadata": {
        "colab": {
          "base_uri": "https://localhost:8080/"
        },
        "id": "SYhs7ZxJqS_i",
        "outputId": "77fcca41-4239-41a4-fe80-6d7e83b42bd2"
      },
      "execution_count": 22,
      "outputs": [
        {
          "output_type": "stream",
          "name": "stdout",
          "text": [
            "Predictions:  [1 0 3 0 0 1 1 0 0 0 0 0 0 0 0 3 0 0 1 0 0 3 0 0 0 0 0 3 0 1 0 0 0 0 1 0 1\n",
            " 0 0 0 0 0 0 3 0 1 0 0 1 0 1 0 1 0 1 1 1 0 0 0 0 3 0 3 1 0 0 0 1 0 0 0 0 1\n",
            " 1 0 1 0 0 0 3 0 0 0 3 0 0 3 0 1 0 1 0 0 0 0 1 1 3 0 1 0 0 3 0 0 0 0 0 0 0\n",
            " 0 1 0 0 0 1 0 0 0 3 3 0 0 0 0 0 0 1 0 0 0 0 1 0 0 0 1 0 0 1 3 1 1 1 3 0 0\n",
            " 0 3 1 0 1 0 3 1 0 1 0 0 0 3 0 1 3 0 0 0 0 0 0 0 0 0 0 0 1 0 0 0 0 0 1 0 0\n",
            " 0 0 0 0 0 0 1 0 0 0 1 0 0 1 0 0 0 1 0 0 0 3 0 1 0 0 0 0 0 0 1 0 0 1 0 0 1\n",
            " 0 0 0 1 0 3 0 3 1 0 0 1 3 1 3 0 3 0 1 1 1 3 3 0 0 0 0 0 1 1 0 0 0 3 0 0 0\n",
            " 0 3 0 0 0 0 0 0 0 0 0 3 3 1 0 0 1 0 0 0 1 3 1 1 3 0 0 1 1 0 0 0 0 0 1 0 0\n",
            " 0 0 1 1 0 0 0 3 0 1 0 0 0 0 0 0 0 0 0 3 0 0 1 0 0 0 0 1 0 0 0 1 0 0 0 1 3\n",
            " 0 0 0 0 0 0 0 0 0 0 0 3 0]\n",
            "Accuracy:  0.7369942196531792\n",
            "Actual value:  [0]\n",
            "Predicted value:  0\n"
          ]
        },
        {
          "output_type": "stream",
          "name": "stderr",
          "text": [
            "/usr/local/lib/python3.7/dist-packages/sklearn/neighbors/_classification.py:198: DataConversionWarning: A column-vector y was passed when a 1d array was expected. Please change the shape of y to (n_samples,), for example using ravel().\n",
            "  return self._fit(X, y)\n"
          ]
        }
      ]
    },
    {
      "cell_type": "code",
      "source": [
        "#Creating Model\n",
        "model=svm.SVC()\n",
        "model.fit(X_train,y_train)\n",
        "prediction=model.predict(X_test)\n",
        "acc=metrics.accuracy_score(y_test,prediction)\n",
        "print('Prediction: ',prediction)\n",
        "print('Accuracy: ',acc)"
      ],
      "metadata": {
        "colab": {
          "base_uri": "https://localhost:8080/"
        },
        "id": "P06QNrAGrLP7",
        "outputId": "dfcf8f27-f1df-44a0-fbd9-edb0916200b0"
      },
      "execution_count": 23,
      "outputs": [
        {
          "output_type": "stream",
          "name": "stdout",
          "text": [
            "Prediction:  [1 0 3 0 0 0 1 0 0 0 0 0 0 0 0 3 0 0 1 0 0 3 0 0 0 0 0 3 0 1 0 0 0 0 1 0 1\n",
            " 0 0 0 0 0 0 3 0 1 0 0 0 0 0 0 1 0 1 1 1 0 0 0 0 3 0 3 1 0 0 0 1 0 0 0 0 1\n",
            " 0 0 0 0 0 0 3 0 0 0 3 0 0 3 0 1 0 0 0 0 0 0 1 1 3 0 1 0 0 3 0 0 0 0 0 0 0\n",
            " 0 0 0 0 0 1 0 0 0 3 3 0 0 0 0 0 0 1 0 0 0 0 1 0 0 0 0 0 0 0 3 1 1 1 3 0 0\n",
            " 0 3 1 0 1 0 3 1 0 0 0 0 0 3 0 1 3 0 0 0 0 0 0 0 0 0 0 0 0 0 0 0 0 0 1 0 0\n",
            " 0 0 0 0 0 0 1 0 0 0 0 0 0 1 0 0 0 1 0 0 0 3 0 1 0 0 0 0 0 0 1 0 0 1 0 0 1\n",
            " 0 0 0 1 0 3 0 3 0 0 0 1 3 1 3 0 3 0 0 0 1 3 3 0 0 0 0 0 1 1 0 0 0 3 0 0 0\n",
            " 0 3 0 0 0 0 0 0 0 0 0 3 3 0 0 0 1 0 0 0 1 3 0 0 3 0 0 1 1 0 0 0 0 0 1 0 0\n",
            " 0 0 1 0 0 0 0 3 0 1 0 0 0 0 0 0 0 0 0 3 0 0 1 0 0 0 0 1 0 0 0 1 0 0 0 1 3\n",
            " 0 0 0 0 0 0 0 0 0 0 0 3 0]\n",
            "Accuracy:  0.7109826589595376\n"
          ]
        },
        {
          "output_type": "stream",
          "name": "stderr",
          "text": [
            "/usr/local/lib/python3.7/dist-packages/sklearn/utils/validation.py:993: DataConversionWarning: A column-vector y was passed when a 1d array was expected. Please change the shape of y to (n_samples, ), for example using ravel().\n",
            "  y = column_or_1d(y, warn=True)\n"
          ]
        }
      ]
    }
  ]
}